{
 "cells": [
  {
   "cell_type": "code",
   "execution_count": 1,
   "id": "72ccffee-729e-4a87-8744-bf09d7de2589",
   "metadata": {},
   "outputs": [],
   "source": [
    "# Q1.\n",
    "\n",
    "# Contingency Matrix:\n",
    "    # A contingency matrix is a table that compares the predicted classes of a model against the true classes.\n",
    "    # Rows represent true classes, while columns represent predicted classes.\n",
    "    # Each cell contains the count of instances belonging to a specific true-predicted class combination.\n",
    "# Evaluation of Performance:\n",
    "    # Contingency matrix helps quantify the accuracy of a classification model.\n",
    "    # It enables calculation of various performance metrics such as accuracy, precision, recall, and F1-score.\n",
    "    # These metrics provide insights into the model's ability to correctly classify instances across different classes."
   ]
  },
  {
   "cell_type": "code",
   "execution_count": 2,
   "id": "4a42a1da-cfa1-4d99-abdc-967cfa5f0f44",
   "metadata": {},
   "outputs": [],
   "source": [
    "# Q2.\n",
    "\n",
    "# Pair Confusion Matrix:\n",
    "    # A pair confusion matrix focuses won evaluating the performance of a binary classification model for a specific class pair.\n",
    "    # It only considers instances related to the selected class pair, ignoring other classes.\n",
    "    # Useful in situations where detailed analysis of the performance between specific classes is required.\n",
    "    # Provides insights into the model's ability to discriminate between specific class pairs, which may be particularly relevant in imbalanced datasets or when certain classes are of special interest."
   ]
  },
  {
   "cell_type": "code",
   "execution_count": 3,
   "id": "4994fd72-b70d-474a-b092-7391b6f42e4a",
   "metadata": {},
   "outputs": [],
   "source": [
    "# Q3.\n",
    "# Extrinsic Measure in NLP:\n",
    "    # Evaluates language models based on performance in downstream tasks.\n",
    "    # Assesses real-world effectiveness in applications like sentiment analysis or machine translation.\n",
    "    # Provides insights into practical utility and performance.\n",
    "    # Often involves comparison with human-labeled data or predefined benchmarks."
   ]
  },
  {
   "cell_type": "code",
   "execution_count": 4,
   "id": "8106fd64-43bf-4def-9f58-de9ae992e30c",
   "metadata": {},
   "outputs": [],
   "source": [
    "# Q4.\n",
    "\n",
    "# Intrinsic Measure in ML:\n",
    "    # Evaluates the performance of machine learning models based on their internal characteristics.\n",
    "    # Focuses on properties of the model itself, such as accuracy, precision, or loss.\n",
    "    # Does not consider the model's preformance on real-world tasks.\n",
    "    # Extrinsic measures, on the other hand, assess performance in real-world applications or downstream tasks."
   ]
  },
  {
   "cell_type": "code",
   "execution_count": 5,
   "id": "30f9f56d-a845-4abd-a18e-754ec464a401",
   "metadata": {},
   "outputs": [],
   "source": [
    "# Q5.\n",
    "\n",
    "# Purpose of Confusion Matrix:\n",
    "    # Evaluates the performance of a ML model by comparing predicted and actual classes.\n",
    "    # Summarizes the model's predicitons in a tabular format.\n",
    "    # Helps identify strengths and weaknesses by revealing patterns of correct and incorrect predictions.\n",
    "    # Enables calculation of various performance metrics such as accuracy, precision, recall, and F1-score."
   ]
  },
  {
   "cell_type": "code",
   "execution_count": 6,
   "id": "34fe6313-9470-4ac6-b195-162b0bd5e82f",
   "metadata": {},
   "outputs": [],
   "source": [
    "# Q6.\n",
    "\n",
    "# Common Intrinsic Meaures:\n",
    "    # Sihouette Coefficient: Measures compactness and separation of clusters.\n",
    "    # Davies-Bouldin Index: Assesses cluster separation and compactness.\n",
    "    # Calinski-Harabasz Index: Quantifies cluster separation and compactness based on variance ratios.\n",
    "# Interpretation:\n",
    "    # Higher Silhouette Coefficient indicates better-defined clusters.\n",
    "    # Lower Davies-Bouldin Index suggests well-separated and compact clusters.\n",
    "    # Higher Calinski-Harabasz Index signifies better-defined and separated clusters."
   ]
  },
  {
   "cell_type": "code",
   "execution_count": 7,
   "id": "4d58ee4b-e513-4a20-ad33-f306c6bdf2ec",
   "metadata": {},
   "outputs": [],
   "source": [
    "# Q7.\n",
    "\n",
    "# Limitations of Accuracy:\n",
    "    # Doesn't account for class imbalance, leading to misleading results.\n",
    "    # Ignores misclassification costs and penalties associated with different types of errors.\n",
    "    # Does not provide insights into model performance across different classes.\n",
    "# Addressing Limitations:\n",
    "    # Use additional metrics like precision, recall, and F1-score to assess model performance comprehensively.\n",
    "    # Adjust decision thresholds or use techniques like stratified sampling to handle class imbalance.\n",
    "    # Consider domain-specific requirements and objectives to determine appropriate evaluation metrics."
   ]
  },
  {
   "cell_type": "code",
   "execution_count": null,
   "id": "93b8e067-df04-4185-96ac-d768182dbf68",
   "metadata": {},
   "outputs": [],
   "source": []
  }
 ],
 "metadata": {
  "kernelspec": {
   "display_name": "Python 3 (ipykernel)",
   "language": "python",
   "name": "python3"
  },
  "language_info": {
   "codemirror_mode": {
    "name": "ipython",
    "version": 3
   },
   "file_extension": ".py",
   "mimetype": "text/x-python",
   "name": "python",
   "nbconvert_exporter": "python",
   "pygments_lexer": "ipython3",
   "version": "3.10.8"
  }
 },
 "nbformat": 4,
 "nbformat_minor": 5
}
